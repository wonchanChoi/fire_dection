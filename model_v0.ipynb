{
 "cells": [
  {
   "cell_type": "code",
   "execution_count": 1,
   "metadata": {},
   "outputs": [],
   "source": [
    "import numpy as np\n",
    "from keras.models import Sequential\n",
    "from keras.layers import Dense\n",
    "from keras.layers import Flatten\n",
    "from keras.layers.convolutional import Conv2D\n",
    "from keras.layers.convolutional import MaxPooling2D\n",
    "from keras.preprocessing.image import ImageDataGenerator"
   ]
  },
  {
   "cell_type": "code",
   "execution_count": 2,
   "metadata": {},
   "outputs": [],
   "source": [
    "np.random.seed(3)"
   ]
  },
  {
   "cell_type": "code",
   "execution_count": 3,
   "metadata": {},
   "outputs": [
    {
     "name": "stdout",
     "output_type": "stream",
     "text": [
      "Found 1000 images belonging to 2 classes.\n"
     ]
    }
   ],
   "source": [
    "train_datagen = ImageDataGenerator(rescale=1./255)\n",
    "\n",
    "train_generator = train_datagen.flow_from_directory(\n",
    "        './img/train',\n",
    "        target_size=(24, 24),\n",
    "        batch_size=5,\n",
    "        class_mode='binary')"
   ]
  },
  {
   "cell_type": "code",
   "execution_count": 4,
   "metadata": {},
   "outputs": [
    {
     "name": "stdout",
     "output_type": "stream",
     "text": [
      "Found 177 images belonging to 2 classes.\n"
     ]
    }
   ],
   "source": [
    "test_datagen = ImageDataGenerator(rescale=1./255)\n",
    "\n",
    "test_generator = test_datagen.flow_from_directory(\n",
    "        './img/test',\n",
    "        target_size=(24, 24),    \n",
    "        batch_size=3,\n",
    "        class_mode='binary')"
   ]
  },
  {
   "cell_type": "code",
   "execution_count": 5,
   "metadata": {},
   "outputs": [],
   "source": [
    "model = Sequential()\n",
    "model.add(Conv2D(32, kernel_size=(3, 3),\n",
    "                 activation='relu',\n",
    "                 input_shape=(24,24,3)))\n",
    "model.add(Conv2D(64, (3, 3), activation='relu'))\n",
    "model.add(MaxPooling2D(pool_size=(2, 2)))\n",
    "model.add(Flatten())\n",
    "model.add(Dense(128, activation='relu'))\n",
    "model.add(Dense(1, activation='sigmoid'))"
   ]
  },
  {
   "cell_type": "code",
   "execution_count": 6,
   "metadata": {},
   "outputs": [],
   "source": [
    "model.compile(loss='binary_crossentropy', optimizer='adam', metrics=['accuracy'])"
   ]
  },
  {
   "cell_type": "code",
   "execution_count": 7,
   "metadata": {
    "scrolled": true
   },
   "outputs": [
    {
     "name": "stdout",
     "output_type": "stream",
     "text": [
      "WARNING:tensorflow:From <ipython-input-7-6c4908677bc3>:6: Model.fit_generator (from tensorflow.python.keras.engine.training) is deprecated and will be removed in a future version.\n",
      "Instructions for updating:\n",
      "Please use Model.fit, which supports generators.\n",
      "Epoch 1/50\n",
      "10/10 [==============================] - 1s 90ms/step - loss: 0.8498 - accuracy: 0.5000 - val_loss: 0.6796 - val_accuracy: 0.8000\n",
      "Epoch 2/50\n",
      "10/10 [==============================] - 0s 48ms/step - loss: 0.6475 - accuracy: 0.6600 - val_loss: 0.2365 - val_accuracy: 0.8667\n",
      "Epoch 3/50\n",
      "10/10 [==============================] - 0s 43ms/step - loss: 0.5516 - accuracy: 0.7800 - val_loss: 0.2972 - val_accuracy: 1.0000\n",
      "Epoch 4/50\n",
      "10/10 [==============================] - 0s 21ms/step - loss: 0.5895 - accuracy: 0.8000 - val_loss: 0.4345 - val_accuracy: 0.8000\n",
      "Epoch 5/50\n",
      "10/10 [==============================] - 0s 25ms/step - loss: 0.4400 - accuracy: 0.7800 - val_loss: 0.5350 - val_accuracy: 0.6667\n",
      "Epoch 6/50\n",
      "10/10 [==============================] - 0s 24ms/step - loss: 0.4045 - accuracy: 0.8200 - val_loss: 0.1147 - val_accuracy: 1.0000\n",
      "Epoch 7/50\n",
      "10/10 [==============================] - 0s 22ms/step - loss: 0.3625 - accuracy: 0.8400 - val_loss: 0.2602 - val_accuracy: 0.8667\n",
      "Epoch 8/50\n",
      "10/10 [==============================] - 0s 21ms/step - loss: 0.4499 - accuracy: 0.7400 - val_loss: 0.1561 - val_accuracy: 0.9333\n",
      "Epoch 9/50\n",
      "10/10 [==============================] - 0s 23ms/step - loss: 0.4925 - accuracy: 0.7400 - val_loss: 0.3247 - val_accuracy: 0.8667\n",
      "Epoch 10/50\n",
      "10/10 [==============================] - 0s 30ms/step - loss: 0.5150 - accuracy: 0.7200 - val_loss: 0.6069 - val_accuracy: 0.6000\n",
      "Epoch 11/50\n",
      "10/10 [==============================] - 0s 25ms/step - loss: 0.5283 - accuracy: 0.7000 - val_loss: 0.2247 - val_accuracy: 0.9333\n",
      "Epoch 12/50\n",
      "10/10 [==============================] - 0s 17ms/step - loss: 0.3968 - accuracy: 0.8800 - val_loss: 0.2159 - val_accuracy: 0.9333\n",
      "Epoch 13/50\n",
      "10/10 [==============================] - 0s 17ms/step - loss: 0.4107 - accuracy: 0.7800 - val_loss: 0.1926 - val_accuracy: 0.9333\n",
      "Epoch 14/50\n",
      "10/10 [==============================] - 0s 16ms/step - loss: 0.3820 - accuracy: 0.8200 - val_loss: 0.2438 - val_accuracy: 0.8000\n",
      "Epoch 15/50\n",
      "10/10 [==============================] - 0s 17ms/step - loss: 0.4721 - accuracy: 0.7000 - val_loss: 0.1339 - val_accuracy: 1.0000\n",
      "Epoch 16/50\n",
      "10/10 [==============================] - 0s 22ms/step - loss: 0.3982 - accuracy: 0.8800 - val_loss: 0.1543 - val_accuracy: 0.9333\n",
      "Epoch 17/50\n",
      "10/10 [==============================] - 0s 19ms/step - loss: 0.2576 - accuracy: 0.9400 - val_loss: 0.2620 - val_accuracy: 0.8667\n",
      "Epoch 18/50\n",
      "10/10 [==============================] - 0s 16ms/step - loss: 0.2861 - accuracy: 0.8600 - val_loss: 0.3935 - val_accuracy: 0.8667\n",
      "Epoch 19/50\n",
      "10/10 [==============================] - 0s 19ms/step - loss: 0.3724 - accuracy: 0.8400 - val_loss: 0.1959 - val_accuracy: 0.9333\n",
      "Epoch 20/50\n",
      "10/10 [==============================] - 0s 18ms/step - loss: 0.2780 - accuracy: 0.9000 - val_loss: 0.0820 - val_accuracy: 1.0000\n",
      "Epoch 21/50\n",
      "10/10 [==============================] - 0s 18ms/step - loss: 0.4235 - accuracy: 0.8200 - val_loss: 0.1198 - val_accuracy: 1.0000\n",
      "Epoch 22/50\n",
      "10/10 [==============================] - 0s 28ms/step - loss: 0.3714 - accuracy: 0.8200 - val_loss: 0.0439 - val_accuracy: 1.0000\n",
      "Epoch 23/50\n",
      "10/10 [==============================] - 0s 19ms/step - loss: 0.3846 - accuracy: 0.8000 - val_loss: 0.0933 - val_accuracy: 1.0000\n",
      "Epoch 24/50\n",
      "10/10 [==============================] - 0s 18ms/step - loss: 0.3787 - accuracy: 0.8000 - val_loss: 0.1526 - val_accuracy: 0.9333\n",
      "Epoch 25/50\n",
      "10/10 [==============================] - 0s 23ms/step - loss: 0.3907 - accuracy: 0.8400 - val_loss: 0.2945 - val_accuracy: 0.8667\n",
      "Epoch 26/50\n",
      "10/10 [==============================] - 0s 18ms/step - loss: 0.4078 - accuracy: 0.8800 - val_loss: 0.0824 - val_accuracy: 1.0000\n",
      "Epoch 27/50\n",
      "10/10 [==============================] - 0s 18ms/step - loss: 0.3594 - accuracy: 0.8600 - val_loss: 0.2801 - val_accuracy: 0.9333\n",
      "Epoch 28/50\n",
      "10/10 [==============================] - 0s 22ms/step - loss: 0.3009 - accuracy: 0.8800 - val_loss: 0.4066 - val_accuracy: 0.8000\n",
      "Epoch 29/50\n",
      "10/10 [==============================] - 0s 22ms/step - loss: 0.4238 - accuracy: 0.8000 - val_loss: 0.1506 - val_accuracy: 1.0000\n",
      "Epoch 30/50\n",
      "10/10 [==============================] - 0s 22ms/step - loss: 0.3870 - accuracy: 0.8200 - val_loss: 0.1299 - val_accuracy: 1.0000\n",
      "Epoch 31/50\n",
      "10/10 [==============================] - 0s 27ms/step - loss: 0.2396 - accuracy: 0.9200 - val_loss: 0.0611 - val_accuracy: 1.0000\n",
      "Epoch 32/50\n",
      "10/10 [==============================] - 0s 22ms/step - loss: 0.3309 - accuracy: 0.9200 - val_loss: 0.2730 - val_accuracy: 0.8667\n",
      "Epoch 33/50\n",
      "10/10 [==============================] - 0s 21ms/step - loss: 0.3833 - accuracy: 0.8400 - val_loss: 0.0918 - val_accuracy: 1.0000\n",
      "Epoch 34/50\n",
      "10/10 [==============================] - 0s 19ms/step - loss: 0.3023 - accuracy: 0.8800 - val_loss: 0.1565 - val_accuracy: 0.8667\n",
      "Epoch 35/50\n",
      "10/10 [==============================] - 0s 21ms/step - loss: 0.2399 - accuracy: 0.9200 - val_loss: 0.0431 - val_accuracy: 1.0000\n",
      "Epoch 36/50\n",
      "10/10 [==============================] - 0s 20ms/step - loss: 0.3405 - accuracy: 0.8800 - val_loss: 0.2544 - val_accuracy: 0.8667\n",
      "Epoch 37/50\n",
      "10/10 [==============================] - 0s 18ms/step - loss: 0.2722 - accuracy: 0.8800 - val_loss: 0.1048 - val_accuracy: 0.9333\n",
      "Epoch 38/50\n",
      "10/10 [==============================] - 0s 21ms/step - loss: 0.4219 - accuracy: 0.8200 - val_loss: 0.3910 - val_accuracy: 0.8000\n",
      "Epoch 39/50\n",
      "10/10 [==============================] - 0s 19ms/step - loss: 0.5029 - accuracy: 0.7800 - val_loss: 0.3265 - val_accuracy: 0.8000\n",
      "Epoch 40/50\n",
      "10/10 [==============================] - 0s 20ms/step - loss: 0.3539 - accuracy: 0.8400 - val_loss: 0.2233 - val_accuracy: 0.8667\n",
      "Epoch 41/50\n",
      "10/10 [==============================] - 0s 19ms/step - loss: 0.3635 - accuracy: 0.8800 - val_loss: 0.1767 - val_accuracy: 0.9333\n",
      "Epoch 42/50\n",
      "10/10 [==============================] - 0s 18ms/step - loss: 0.3284 - accuracy: 0.8600 - val_loss: 0.1396 - val_accuracy: 0.9333\n",
      "Epoch 43/50\n",
      "10/10 [==============================] - 0s 18ms/step - loss: 0.2683 - accuracy: 0.8600 - val_loss: 0.1132 - val_accuracy: 0.9333\n",
      "Epoch 44/50\n",
      "10/10 [==============================] - 0s 19ms/step - loss: 0.2928 - accuracy: 0.8800 - val_loss: 0.1046 - val_accuracy: 1.0000\n",
      "Epoch 45/50\n",
      "10/10 [==============================] - 0s 23ms/step - loss: 0.4372 - accuracy: 0.8000 - val_loss: 0.2124 - val_accuracy: 0.8667\n",
      "Epoch 46/50\n",
      "10/10 [==============================] - 0s 22ms/step - loss: 0.3919 - accuracy: 0.7600 - val_loss: 0.1111 - val_accuracy: 0.9333\n",
      "Epoch 47/50\n",
      "10/10 [==============================] - 0s 21ms/step - loss: 0.2189 - accuracy: 0.9400 - val_loss: 0.1878 - val_accuracy: 0.9333\n",
      "Epoch 48/50\n",
      "10/10 [==============================] - 0s 23ms/step - loss: 0.2708 - accuracy: 0.9000 - val_loss: 0.1476 - val_accuracy: 0.9333\n",
      "Epoch 49/50\n",
      "10/10 [==============================] - 0s 28ms/step - loss: 0.3473 - accuracy: 0.8800 - val_loss: 0.1295 - val_accuracy: 0.9333\n",
      "Epoch 50/50\n",
      "10/10 [==============================] - 0s 37ms/step - loss: 0.2840 - accuracy: 0.8600 - val_loss: 0.2111 - val_accuracy: 1.0000\n"
     ]
    },
    {
     "data": {
      "text/plain": [
       "<tensorflow.python.keras.callbacks.History at 0x7fc4111493d0>"
      ]
     },
     "execution_count": 7,
     "metadata": {},
     "output_type": "execute_result"
    }
   ],
   "source": [
    "model.fit_generator(\n",
    "        train_generator,\n",
    "        steps_per_epoch=10,\n",
    "        epochs=50,\n",
    "        validation_data=test_generator,\n",
    "        validation_steps=5)"
   ]
  },
  {
   "cell_type": "code",
   "execution_count": 8,
   "metadata": {
    "scrolled": true
   },
   "outputs": [
    {
     "name": "stdout",
     "output_type": "stream",
     "text": [
      "-- Evaluate --\n",
      "WARNING:tensorflow:From <ipython-input-8-b703dad36ef7>:2: Model.evaluate_generator (from tensorflow.python.keras.engine.training) is deprecated and will be removed in a future version.\n",
      "Instructions for updating:\n",
      "Please use Model.evaluate, which supports generators.\n",
      "accuracy: 100.00%\n"
     ]
    }
   ],
   "source": [
    "print(\"-- Evaluate --\")\n",
    "scores = model.evaluate_generator(test_generator, steps=5)\n",
    "print(\"%s: %.2f%%\" %(model.metrics_names[1], scores[1]*100))"
   ]
  },
  {
   "cell_type": "code",
   "execution_count": 9,
   "metadata": {},
   "outputs": [
    {
     "name": "stdout",
     "output_type": "stream",
     "text": [
      "-- Predict --\n",
      "WARNING:tensorflow:From <ipython-input-9-ff8f58f7659a>:2: Model.predict_generator (from tensorflow.python.keras.engine.training) is deprecated and will be removed in a future version.\n",
      "Instructions for updating:\n",
      "Please use Model.predict, which supports generators.\n",
      "{'fire': 0, 'normal': 1}\n",
      "[[0.001]\n",
      " [0.965]\n",
      " [0.000]\n",
      " [0.209]\n",
      " [0.000]\n",
      " [0.903]\n",
      " [0.885]\n",
      " [0.005]\n",
      " [0.926]\n",
      " [0.000]\n",
      " [0.930]\n",
      " [0.297]\n",
      " [0.011]\n",
      " [0.000]\n",
      " [0.000]]\n"
     ]
    }
   ],
   "source": [
    "print(\"-- Predict --\")\n",
    "output = model.predict_generator(test_generator, steps=5)\n",
    "np.set_printoptions(formatter={'float': lambda x: \"{0:0.3f}\".format(x)})\n",
    "print(test_generator.class_indices)\n",
    "print(output)"
   ]
  },
  {
   "cell_type": "code",
   "execution_count": 10,
   "metadata": {},
   "outputs": [],
   "source": [
    "from keras.models import load_model\n",
    "\n",
    "model.save('./model/v0.h5')"
   ]
  },
  {
   "cell_type": "code",
   "execution_count": null,
   "metadata": {},
   "outputs": [],
   "source": []
  }
 ],
 "metadata": {
  "kernelspec": {
   "display_name": "ai",
   "language": "python",
   "name": "ai"
  },
  "language_info": {
   "codemirror_mode": {
    "name": "ipython",
    "version": 3
   },
   "file_extension": ".py",
   "mimetype": "text/x-python",
   "name": "python",
   "nbconvert_exporter": "python",
   "pygments_lexer": "ipython3",
   "version": "3.7.9"
  }
 },
 "nbformat": 4,
 "nbformat_minor": 4
}
