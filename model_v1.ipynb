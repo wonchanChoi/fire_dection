{
 "cells": [
  {
   "cell_type": "code",
   "execution_count": 3,
   "metadata": {},
   "outputs": [],
   "source": [
    "import tensorflow as tf\n",
    "from tensorflow.keras import datasets, layers, models"
   ]
  },
  {
   "cell_type": "code",
   "execution_count": 4,
   "metadata": {},
   "outputs": [],
   "source": [
    "batch_size = 8\n",
    "img_height = 24\n",
    "img_width = 24"
   ]
  },
  {
   "cell_type": "code",
   "execution_count": 5,
   "metadata": {},
   "outputs": [
    {
     "name": "stdout",
     "output_type": "stream",
     "text": [
      "Found 1000 files belonging to 2 classes.\n",
      "Using 800 files for training.\n"
     ]
    }
   ],
   "source": [
    "train_ds = tf.keras.preprocessing.image_dataset_from_directory(\n",
    "  './img/train',\n",
    "    labels='inferred',\n",
    "    label_mode='int',\n",
    "  validation_split=0.2,\n",
    "  subset=\"training\",\n",
    "  seed=123,\n",
    "  image_size=(img_height, img_width),\n",
    "  batch_size=batch_size,)"
   ]
  },
  {
   "cell_type": "code",
   "execution_count": 6,
   "metadata": {},
   "outputs": [
    {
     "name": "stdout",
     "output_type": "stream",
     "text": [
      "Found 177 files belonging to 2 classes.\n",
      "Using 35 files for validation.\n"
     ]
    }
   ],
   "source": [
    "val_ds = tf.keras.preprocessing.image_dataset_from_directory(\n",
    "  './img/test',\n",
    "    labels='inferred',\n",
    "    label_mode='int',\n",
    "  validation_split=0.2,\n",
    "  subset=\"validation\",\n",
    "  seed=123,\n",
    "  image_size=(img_height, img_width),\n",
    "  batch_size=batch_size,)\n"
   ]
  },
  {
   "cell_type": "code",
   "execution_count": 7,
   "metadata": {},
   "outputs": [],
   "source": [
    "model = models.Sequential()\n",
    "model.add(layers.Conv2D(32, (3, 3), activation='relu', input_shape=(24, 24, 3)))\n",
    "model.add(layers.MaxPooling2D((2, 2)))\n",
    "model.add(layers.Conv2D(64, (3, 3), activation='relu'))\n",
    "model.add(layers.MaxPooling2D((2, 2)))\n",
    "model.add(layers.Conv2D(64, (3, 3), activation='relu'))"
   ]
  },
  {
   "cell_type": "code",
   "execution_count": 8,
   "metadata": {},
   "outputs": [
    {
     "name": "stdout",
     "output_type": "stream",
     "text": [
      "Model: \"sequential\"\n",
      "_________________________________________________________________\n",
      "Layer (type)                 Output Shape              Param #   \n",
      "=================================================================\n",
      "conv2d (Conv2D)              (None, 22, 22, 32)        896       \n",
      "_________________________________________________________________\n",
      "max_pooling2d (MaxPooling2D) (None, 11, 11, 32)        0         \n",
      "_________________________________________________________________\n",
      "conv2d_1 (Conv2D)            (None, 9, 9, 64)          18496     \n",
      "_________________________________________________________________\n",
      "max_pooling2d_1 (MaxPooling2 (None, 4, 4, 64)          0         \n",
      "_________________________________________________________________\n",
      "conv2d_2 (Conv2D)            (None, 2, 2, 64)          36928     \n",
      "=================================================================\n",
      "Total params: 56,320\n",
      "Trainable params: 56,320\n",
      "Non-trainable params: 0\n",
      "_________________________________________________________________\n"
     ]
    }
   ],
   "source": [
    "model.summary()"
   ]
  },
  {
   "cell_type": "code",
   "execution_count": 9,
   "metadata": {},
   "outputs": [],
   "source": [
    "model.add(layers.Flatten())\n",
    "model.add(layers.Dense(64, activation='relu'))\n",
    "model.add(layers.Dense(2, activation='softmax'))"
   ]
  },
  {
   "cell_type": "code",
   "execution_count": 10,
   "metadata": {},
   "outputs": [
    {
     "name": "stdout",
     "output_type": "stream",
     "text": [
      "Epoch 1/10\n",
      "100/100 [==============================] - 2s 20ms/step - loss: 1.4340 - accuracy: 0.7887 - val_loss: 0.1478 - val_accuracy: 0.9714\n",
      "Epoch 2/10\n",
      "100/100 [==============================] - 1s 14ms/step - loss: 0.4155 - accuracy: 0.8413 - val_loss: 0.1385 - val_accuracy: 0.9429\n",
      "Epoch 3/10\n",
      "100/100 [==============================] - 1s 14ms/step - loss: 0.3342 - accuracy: 0.8612 - val_loss: 0.3775 - val_accuracy: 0.9143\n",
      "Epoch 4/10\n",
      "100/100 [==============================] - 1s 14ms/step - loss: 0.2983 - accuracy: 0.8838 - val_loss: 0.1792 - val_accuracy: 0.9429\n",
      "Epoch 5/10\n",
      "100/100 [==============================] - 1s 13ms/step - loss: 0.2065 - accuracy: 0.9162 - val_loss: 0.1500 - val_accuracy: 0.9429\n",
      "Epoch 6/10\n",
      "100/100 [==============================] - 1s 15ms/step - loss: 0.2251 - accuracy: 0.8975 - val_loss: 0.5488 - val_accuracy: 0.8857\n",
      "Epoch 7/10\n",
      "100/100 [==============================] - 1s 14ms/step - loss: 0.1895 - accuracy: 0.9162 - val_loss: 0.1782 - val_accuracy: 0.9429\n",
      "Epoch 8/10\n",
      "100/100 [==============================] - 1s 15ms/step - loss: 0.1544 - accuracy: 0.9325 - val_loss: 0.1901 - val_accuracy: 0.9714\n",
      "Epoch 9/10\n",
      "100/100 [==============================] - 1s 14ms/step - loss: 0.2246 - accuracy: 0.9225 - val_loss: 0.1493 - val_accuracy: 0.9714\n",
      "Epoch 10/10\n",
      "100/100 [==============================] - 1s 12ms/step - loss: 0.1425 - accuracy: 0.9362 - val_loss: 0.1644 - val_accuracy: 0.9429\n"
     ]
    },
    {
     "data": {
      "text/plain": [
       "<tensorflow.python.keras.callbacks.History at 0x7f09440aa350>"
      ]
     },
     "execution_count": 10,
     "metadata": {},
     "output_type": "execute_result"
    }
   ],
   "source": [
    "model.compile(optimizer='adam',\n",
    "              loss='sparse_categorical_crossentropy',\n",
    "              metrics=['accuracy'])\n",
    "model.fit(train_ds,\n",
    "          validation_data=val_ds\n",
    "          ,epochs=10)"
   ]
  }
 ],
 "metadata": {
  "kernelspec": {
   "display_name": "ai",
   "language": "python",
   "name": "ai"
  },
  "language_info": {
   "codemirror_mode": {
    "name": "ipython",
    "version": 3
   },
   "file_extension": ".py",
   "mimetype": "text/x-python",
   "name": "python",
   "nbconvert_exporter": "python",
   "pygments_lexer": "ipython3",
   "version": "3.7.9"
  }
 },
 "nbformat": 4,
 "nbformat_minor": 4
}
