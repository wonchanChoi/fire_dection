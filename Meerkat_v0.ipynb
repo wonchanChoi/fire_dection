{
 "cells": [
  {
   "cell_type": "code",
   "execution_count": 2,
   "metadata": {},
   "outputs": [],
   "source": [
    "import tensorflow as tf\n",
    "from keras.preprocessing.image import ImageDataGenerator\n",
    "\n",
    "from PIL import ImageGrab\n",
    "import time\n",
    "import os"
   ]
  },
  {
   "cell_type": "code",
   "execution_count": 3,
   "metadata": {},
   "outputs": [],
   "source": [
    "class model:\n",
    "    def __init__(self):\n",
    "        pass\n",
    "    \n",
    "    def call_Model(self):\n",
    "        from tensorflow.keras.models import load_model\n",
    "        model = load_model('./model/v0.h5')\n",
    "        self.model = model\n",
    "        print(\"======[Load Model]======\")\n",
    "        \n",
    "    def capture_Img(self, real_time):\n",
    "        time = \"%02d_%02d_%02d_%02d\" % (real_time.tm_mon, real_time.tm_mday, real_time.tm_hour, real_time.tm_min)\n",
    "        img = ImageGrab.grab()\n",
    "        save = \"{}{}{}\".format('./capture/cctv/', time, '.png')\n",
    "        self.save = save\n",
    "        print(save)\n",
    "        img.save(save)\n",
    "        #print(\"======[Monitoring]======\")\n",
    "        \n",
    "    def load_Img(self):\n",
    "        data_gen = ImageDataGenerator(rescale=1./255)\n",
    "        \n",
    "        x = data_gen.flow_from_directory(\n",
    "            'capture/',\n",
    "            target_size=(24, 24),\n",
    "            batch_size=3,\n",
    "            class_mode=None)\n",
    "        print(x)\n",
    "        print(\"Load test image complete\")\n",
    "        return x\n",
    "    \n",
    "    def do_Predict(self, x):\n",
    "        model = self.model\n",
    "        pred, percent = model.predict_classes(x), model.predict(x)\n",
    "        return pred, percent\n",
    "    \n",
    "    def remove_Img(self):\n",
    "        try:\n",
    "            os.remove(self.save)\n",
    "        except:\n",
    "            print(\"remove exception\")        "
   ]
  },
  {
   "cell_type": "code",
   "execution_count": 6,
   "metadata": {
    "scrolled": true
   },
   "outputs": [
    {
     "name": "stdout",
     "output_type": "stream",
     "text": [
      "======[Load Model]======\n",
      "fire : 0, normal : 1\n",
      "Found 1 images belonging to 1 classes.\n",
      "<tensorflow.python.keras.preprocessing.image.DirectoryIterator object at 0x7fc39c180290>\n",
      "Load test image complete\n",
      "[0] , [0.15387937]\n"
     ]
    }
   ],
   "source": [
    "md = model()\n",
    "\n",
    "md.call_Model()\n",
    "\n",
    "print(\"fire : 0, normal : 1\")\n",
    "\n",
    "while True:\n",
    "    #md.capture_Img(time.localtime())\n",
    "\n",
    "    x=md.load_Img()\n",
    "    pred, percent = md.do_Predict(x)\n",
    "    \n",
    "    print(pred[0],\",\",percent[0])\n",
    "    \n",
    "    if pred[0] == 0:\n",
    "        break\n",
    "    else:\n",
    "        #md.remove_Img()\n",
    "        pass"
   ]
  },
  {
   "cell_type": "code",
   "execution_count": null,
   "metadata": {},
   "outputs": [],
   "source": []
  }
 ],
 "metadata": {
  "kernelspec": {
   "display_name": "ai",
   "language": "python",
   "name": "ai"
  },
  "language_info": {
   "codemirror_mode": {
    "name": "ipython",
    "version": 3
   },
   "file_extension": ".py",
   "mimetype": "text/x-python",
   "name": "python",
   "nbconvert_exporter": "python",
   "pygments_lexer": "ipython3",
   "version": "3.7.9"
  }
 },
 "nbformat": 4,
 "nbformat_minor": 4
}
